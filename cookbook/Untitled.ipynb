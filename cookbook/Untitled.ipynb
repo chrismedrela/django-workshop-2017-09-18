{
 "cells": [
  {
   "cell_type": "code",
   "execution_count": 1,
   "metadata": {},
   "outputs": [],
   "source": [
    "from recipes.models import *"
   ]
  },
  {
   "cell_type": "code",
   "execution_count": 2,
   "metadata": {},
   "outputs": [
    {
     "data": {
      "text/plain": [
       "<QuerySet [<Recipe: Salat>, <Recipe: Omas beste Frikadellen>, <Recipe: Aglio e Olio>]>"
      ]
     },
     "execution_count": 2,
     "metadata": {},
     "output_type": "execute_result"
    }
   ],
   "source": [
    "Recipe.objects.all()"
   ]
  },
  {
   "cell_type": "code",
   "execution_count": 3,
   "metadata": {},
   "outputs": [
    {
     "ename": "NameError",
     "evalue": "name 'foo' is not defined",
     "output_type": "error",
     "traceback": [
      "\u001b[0;31m---------------------------------------------------------------------------\u001b[0m",
      "\u001b[0;31mNameError\u001b[0m                                 Traceback (most recent call last)",
      "\u001b[0;32m<ipython-input-3-f28d5f438bed>\u001b[0m in \u001b[0;36m<module>\u001b[0;34m()\u001b[0m\n\u001b[0;32m----> 1\u001b[0;31m \u001b[0mfoo\u001b[0m\u001b[0;34m(\u001b[0m\u001b[0;36m5\u001b[0m\u001b[0;34m,\u001b[0m \u001b[0;36m8\u001b[0m\u001b[0;34m)\u001b[0m\u001b[0;34m\u001b[0m\u001b[0m\n\u001b[0m",
      "\u001b[0;31mNameError\u001b[0m: name 'foo' is not defined"
     ]
    }
   ],
   "source": [
    "foo(5, 8)"
   ]
  },
  {
   "cell_type": "code",
   "execution_count": 4,
   "metadata": {},
   "outputs": [],
   "source": [
    "def foo(a, b):\n",
    "    return a + b"
   ]
  },
  {
   "cell_type": "markdown",
   "metadata": {},
   "source": [
    "# djlakhfdjklah\n",
    "\n",
    "## hdjakfhdj jhfadfjdas\n",
    "\n",
    "## hfjdahfjsd\n",
    "\n",
    "Format code: **bold**, *i*.\n",
    "\n",
    "```python\n",
    "2 + 4\n",
    "```\n",
    "\n",
    "- fadsf\n",
    "- qwer\n",
    "\n",
    "1. qwer\n",
    "1. asdf"
   ]
  },
  {
   "cell_type": "code",
   "execution_count": 5,
   "metadata": {},
   "outputs": [
    {
     "name": "stdout",
     "output_type": "stream",
     "text": [
      "backup.json  db.sqlite3  media\t\t      recipes  templates\r\n",
      "cookbook     manage.py\t ORM Exercises.ipynb  static   Untitled.ipynb\r\n"
     ]
    }
   ],
   "source": [
    "!ls"
   ]
  },
  {
   "cell_type": "code",
   "execution_count": 6,
   "metadata": {},
   "outputs": [],
   "source": [
    "ls_result = !ls"
   ]
  },
  {
   "cell_type": "code",
   "execution_count": 7,
   "metadata": {},
   "outputs": [
    {
     "data": {
      "text/plain": [
       "['backup.json',\n",
       " 'cookbook',\n",
       " 'db.sqlite3',\n",
       " 'manage.py',\n",
       " 'media',\n",
       " 'ORM Exercises.ipynb',\n",
       " 'recipes',\n",
       " 'static',\n",
       " 'templates',\n",
       " 'Untitled.ipynb']"
      ]
     },
     "execution_count": 7,
     "metadata": {},
     "output_type": "execute_result"
    }
   ],
   "source": [
    "ls_result"
   ]
  },
  {
   "cell_type": "code",
   "execution_count": 9,
   "metadata": {},
   "outputs": [
    {
     "name": "stdout",
     "output_type": "stream",
     "text": [
      "-rw-rw-r-- 1 chris chris 8624 wrz 19 10:20 backup.json\n",
      "total 28\n",
      "drwxrwxr-x 3 chris chris 4096 wrz 19 15:57 .\n",
      "drwxrwxr-x 8 chris chris 4096 wrz 20 09:34 ..\n",
      "-rw-rw-r-- 1 chris chris    0 wrz 18 11:27 __init__.py\n",
      "-rw-rw-r-- 1 chris chris   48 wrz 19 16:18 local_settings.py\n",
      "drwxrwxr-x 2 chris chris 4096 wrz 19 16:19 __pycache__\n",
      "-rw-rw-r-- 1 chris chris 3533 wrz 19 16:18 settings.py\n",
      "-rw-rw-r-- 1 chris chris 1178 wrz 19 16:12 urls.py\n",
      "-rw-rw-r-- 1 chris chris  394 wrz 18 11:27 wsgi.py\n",
      "-rw-r--r-- 1 chris chris 176128 wrz 19 15:44 db.sqlite3\n",
      "-rwxrwxr-x 1 chris chris 806 wrz 18 11:27 manage.py\n",
      "total 12\n",
      "drwxrwxr-x 3 chris chris 4096 wrz 18 14:59 .\n",
      "drwxrwxr-x 8 chris chris 4096 wrz 20 09:34 ..\n",
      "drwxrwxr-x 2 chris chris 4096 wrz 18 14:59 recipes\n",
      "ls: cannot access 'ORM': No such file or directory\n",
      "ls: cannot access 'Exercises.ipynb': No such file or directory\n",
      "total 44\n",
      "drwxrwxr-x 6 chris chris 4096 wrz 18 15:47 .\n",
      "drwxrwxr-x 8 chris chris 4096 wrz 20 09:34 ..\n",
      "-rw-rw-r-- 1 chris chris  328 wrz 18 14:27 admin.py\n",
      "-rw-rw-r-- 1 chris chris   89 wrz 18 12:00 apps.py\n",
      "drwxrwxr-x 2 chris chris 4096 wrz 18 15:05 fixtures\n",
      "-rw-rw-r-- 1 chris chris    0 wrz 18 12:00 __init__.py\n",
      "drwxrwxr-x 3 chris chris 4096 wrz 18 14:40 migrations\n",
      "-rw-rw-r-- 1 chris chris 2041 wrz 19 12:13 models.py\n",
      "drwxrwxr-x 2 chris chris 4096 wrz 19 16:54 __pycache__\n",
      "drwxrwxr-x 3 chris chris 4096 wrz 18 15:47 templates\n",
      "-rw-rw-r-- 1 chris chris   60 wrz 18 12:00 tests.py\n",
      "-rw-rw-r-- 1 chris chris  488 wrz 19 16:54 views.py\n",
      "total 8\n",
      "drwxrwxr-x 2 chris chris 4096 wrz 18 11:41 .\n",
      "drwxrwxr-x 8 chris chris 4096 wrz 20 09:34 ..\n",
      "total 12\n",
      "drwxrwxr-x 2 chris chris 4096 wrz 18 15:46 .\n",
      "drwxrwxr-x 8 chris chris 4096 wrz 20 09:34 ..\n",
      "-rw-rw-r-- 1 chris chris  238 wrz 18 15:47 base.html\n",
      "-rw-rw-r-- 1 chris chris 3033 wrz 20 09:34 Untitled.ipynb\n"
     ]
    }
   ],
   "source": [
    "for file in ls_result:\n",
    "    !ls -al $file"
   ]
  },
  {
   "cell_type": "code",
   "execution_count": null,
   "metadata": {},
   "outputs": [],
   "source": []
  }
 ],
 "metadata": {
  "kernelspec": {
   "display_name": "Django Shell-Plus",
   "language": "python",
   "name": "django_extensions"
  },
  "language_info": {
   "codemirror_mode": {
    "name": "ipython",
    "version": 3
   },
   "file_extension": ".py",
   "mimetype": "text/x-python",
   "name": "python",
   "nbconvert_exporter": "python",
   "pygments_lexer": "ipython3",
   "version": "3.5.3"
  }
 },
 "nbformat": 4,
 "nbformat_minor": 2
}
