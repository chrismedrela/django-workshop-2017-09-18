{
 "cells": [
  {
   "cell_type": "code",
   "execution_count": 3,
   "metadata": {},
   "outputs": [],
   "source": [
    "from recipes.models import *\n",
    "from django.db.models import Q"
   ]
  },
  {
   "cell_type": "markdown",
   "metadata": {},
   "source": [
    "## Exercise: Complex Queries\n",
    "\n",
    "1. get all recipes with `number_of_portions=4` AND name containing 'o'\n",
    "2. get all recipes with `number_of_portions=4` OR name containing 'o'\n",
    "3. get all recipes with `number_of_portions` between 2 and 4 inclusive\n",
    "4. get all recipes with `number_of_portions` equal 2, 4, 6 or 8"
   ]
  }
 ],
 "metadata": {
  "kernelspec": {
   "display_name": "Django Shell-Plus",
   "language": "python",
   "name": "django_extensions"
  },
  "language_info": {
   "codemirror_mode": {
    "name": "ipython",
    "version": 3
   },
   "file_extension": ".py",
   "mimetype": "text/x-python",
   "name": "python",
   "nbconvert_exporter": "python",
   "pygments_lexer": "ipython3",
   "version": "3.5.3"
  }
 },
 "nbformat": 4,
 "nbformat_minor": 2
}
